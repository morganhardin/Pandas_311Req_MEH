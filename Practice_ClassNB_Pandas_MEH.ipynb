{
 "cells": [
  {
   "cell_type": "markdown",
   "id": "e266950b",
   "metadata": {},
   "source": [
    "### We're going to use a new dataset here, to demonstrate how to deal with larger datasets. This is a subset of the of 311 service requests from [NYC Open Data](https://nycopendata.socrata.com/Social-Services/311-Service-Requests-from-2010-to-Present/erm2-nwe9). \n",
    "Work in a group whom you did not worked before and submit the work before Next class\n",
    "- Rename the notebook Practice_ClassNB_Pandas_XX (your initial)\n",
    "- Indivijual submission "
   ]
  },
  {
   "cell_type": "markdown",
   "id": "2cc29949",
   "metadata": {},
   "source": [
    "#### Import pandas, numpy"
   ]
  },
  {
   "cell_type": "code",
   "execution_count": 1,
   "id": "7ad62f84",
   "metadata": {},
   "outputs": [],
   "source": [
    "import pandas as pd\n",
    "import numpy as np"
   ]
  },
  {
   "cell_type": "markdown",
   "id": "2146556e",
   "metadata": {},
   "source": [
    "### 1. Load the data using read_csv and give it a name complains"
   ]
  },
  {
   "cell_type": "markdown",
   "id": "7d6e8b33",
   "metadata": {},
   "source": [
    "Depending on your pandas version, you might see an error like \"DtypeWarning: Columns (8) have mixed types\". This means that it's encountered a problem reading in our data. In this case it almost certainly means that it has columns where some of the entries are strings and some are integers.\n",
    "#### pd.read_csv('______________.csv',`dtype='unicode'`)"
   ]
  },
  {
   "cell_type": "code",
   "execution_count": 2,
   "id": "278e674b",
   "metadata": {},
   "outputs": [],
   "source": [
    "complaints = pd.read_csv('311-service-requests.csv', dtype='unicode')"
   ]
  },
  {
   "cell_type": "markdown",
   "id": "0d51cdf9",
   "metadata": {},
   "source": [
    "### 2. What's even in it? (the summary)\n"
   ]
  },
  {
   "cell_type": "code",
   "execution_count": 3,
   "id": "fb2a7605",
   "metadata": {},
   "outputs": [
    {
     "data": {
      "text/html": [
       "<div>\n",
       "<style scoped>\n",
       "    .dataframe tbody tr th:only-of-type {\n",
       "        vertical-align: middle;\n",
       "    }\n",
       "\n",
       "    .dataframe tbody tr th {\n",
       "        vertical-align: top;\n",
       "    }\n",
       "\n",
       "    .dataframe thead th {\n",
       "        text-align: right;\n",
       "    }\n",
       "</style>\n",
       "<table border=\"1\" class=\"dataframe\">\n",
       "  <thead>\n",
       "    <tr style=\"text-align: right;\">\n",
       "      <th></th>\n",
       "      <th>Unique Key</th>\n",
       "      <th>Created Date</th>\n",
       "      <th>Closed Date</th>\n",
       "      <th>Agency</th>\n",
       "      <th>Agency Name</th>\n",
       "      <th>Complaint Type</th>\n",
       "      <th>Descriptor</th>\n",
       "      <th>Location Type</th>\n",
       "      <th>Incident Zip</th>\n",
       "      <th>Incident Address</th>\n",
       "      <th>...</th>\n",
       "      <th>Bridge Highway Name</th>\n",
       "      <th>Bridge Highway Direction</th>\n",
       "      <th>Road Ramp</th>\n",
       "      <th>Bridge Highway Segment</th>\n",
       "      <th>Garage Lot Name</th>\n",
       "      <th>Ferry Direction</th>\n",
       "      <th>Ferry Terminal Name</th>\n",
       "      <th>Latitude</th>\n",
       "      <th>Longitude</th>\n",
       "      <th>Location</th>\n",
       "    </tr>\n",
       "  </thead>\n",
       "  <tbody>\n",
       "    <tr>\n",
       "      <th>0</th>\n",
       "      <td>26589651</td>\n",
       "      <td>10/31/2013 02:08:41 AM</td>\n",
       "      <td>NaN</td>\n",
       "      <td>NYPD</td>\n",
       "      <td>New York City Police Department</td>\n",
       "      <td>Noise - Street/Sidewalk</td>\n",
       "      <td>Loud Talking</td>\n",
       "      <td>Street/Sidewalk</td>\n",
       "      <td>11432</td>\n",
       "      <td>90-03 169 STREET</td>\n",
       "      <td>...</td>\n",
       "      <td>NaN</td>\n",
       "      <td>NaN</td>\n",
       "      <td>NaN</td>\n",
       "      <td>NaN</td>\n",
       "      <td>NaN</td>\n",
       "      <td>NaN</td>\n",
       "      <td>NaN</td>\n",
       "      <td>40.70827532593202</td>\n",
       "      <td>-73.79160395779721</td>\n",
       "      <td>(40.70827532593202, -73.79160395779721)</td>\n",
       "    </tr>\n",
       "    <tr>\n",
       "      <th>1</th>\n",
       "      <td>26593698</td>\n",
       "      <td>10/31/2013 02:01:04 AM</td>\n",
       "      <td>NaN</td>\n",
       "      <td>NYPD</td>\n",
       "      <td>New York City Police Department</td>\n",
       "      <td>Illegal Parking</td>\n",
       "      <td>Commercial Overnight Parking</td>\n",
       "      <td>Street/Sidewalk</td>\n",
       "      <td>11378</td>\n",
       "      <td>58 AVENUE</td>\n",
       "      <td>...</td>\n",
       "      <td>NaN</td>\n",
       "      <td>NaN</td>\n",
       "      <td>NaN</td>\n",
       "      <td>NaN</td>\n",
       "      <td>NaN</td>\n",
       "      <td>NaN</td>\n",
       "      <td>NaN</td>\n",
       "      <td>40.721040535628305</td>\n",
       "      <td>-73.90945306791765</td>\n",
       "      <td>(40.721040535628305, -73.90945306791765)</td>\n",
       "    </tr>\n",
       "    <tr>\n",
       "      <th>2</th>\n",
       "      <td>26594139</td>\n",
       "      <td>10/31/2013 02:00:24 AM</td>\n",
       "      <td>10/31/2013 02:40:32 AM</td>\n",
       "      <td>NYPD</td>\n",
       "      <td>New York City Police Department</td>\n",
       "      <td>Noise - Commercial</td>\n",
       "      <td>Loud Music/Party</td>\n",
       "      <td>Club/Bar/Restaurant</td>\n",
       "      <td>10032</td>\n",
       "      <td>4060 BROADWAY</td>\n",
       "      <td>...</td>\n",
       "      <td>NaN</td>\n",
       "      <td>NaN</td>\n",
       "      <td>NaN</td>\n",
       "      <td>NaN</td>\n",
       "      <td>NaN</td>\n",
       "      <td>NaN</td>\n",
       "      <td>NaN</td>\n",
       "      <td>40.84332975466513</td>\n",
       "      <td>-73.93914371913482</td>\n",
       "      <td>(40.84332975466513, -73.93914371913482)</td>\n",
       "    </tr>\n",
       "    <tr>\n",
       "      <th>3</th>\n",
       "      <td>26595721</td>\n",
       "      <td>10/31/2013 01:56:23 AM</td>\n",
       "      <td>10/31/2013 02:21:48 AM</td>\n",
       "      <td>NYPD</td>\n",
       "      <td>New York City Police Department</td>\n",
       "      <td>Noise - Vehicle</td>\n",
       "      <td>Car/Truck Horn</td>\n",
       "      <td>Street/Sidewalk</td>\n",
       "      <td>10023</td>\n",
       "      <td>WEST 72 STREET</td>\n",
       "      <td>...</td>\n",
       "      <td>NaN</td>\n",
       "      <td>NaN</td>\n",
       "      <td>NaN</td>\n",
       "      <td>NaN</td>\n",
       "      <td>NaN</td>\n",
       "      <td>NaN</td>\n",
       "      <td>NaN</td>\n",
       "      <td>40.7780087446372</td>\n",
       "      <td>-73.98021349023975</td>\n",
       "      <td>(40.7780087446372, -73.98021349023975)</td>\n",
       "    </tr>\n",
       "    <tr>\n",
       "      <th>4</th>\n",
       "      <td>26590930</td>\n",
       "      <td>10/31/2013 01:53:44 AM</td>\n",
       "      <td>NaN</td>\n",
       "      <td>DOHMH</td>\n",
       "      <td>Department of Health and Mental Hygiene</td>\n",
       "      <td>Rodent</td>\n",
       "      <td>Condition Attracting Rodents</td>\n",
       "      <td>Vacant Lot</td>\n",
       "      <td>10027</td>\n",
       "      <td>WEST 124 STREET</td>\n",
       "      <td>...</td>\n",
       "      <td>NaN</td>\n",
       "      <td>NaN</td>\n",
       "      <td>NaN</td>\n",
       "      <td>NaN</td>\n",
       "      <td>NaN</td>\n",
       "      <td>NaN</td>\n",
       "      <td>NaN</td>\n",
       "      <td>40.80769092704951</td>\n",
       "      <td>-73.94738703491433</td>\n",
       "      <td>(40.80769092704951, -73.94738703491433)</td>\n",
       "    </tr>\n",
       "  </tbody>\n",
       "</table>\n",
       "<p>5 rows × 52 columns</p>\n",
       "</div>"
      ],
      "text/plain": [
       "  Unique Key            Created Date             Closed Date Agency  \\\n",
       "0   26589651  10/31/2013 02:08:41 AM                     NaN   NYPD   \n",
       "1   26593698  10/31/2013 02:01:04 AM                     NaN   NYPD   \n",
       "2   26594139  10/31/2013 02:00:24 AM  10/31/2013 02:40:32 AM   NYPD   \n",
       "3   26595721  10/31/2013 01:56:23 AM  10/31/2013 02:21:48 AM   NYPD   \n",
       "4   26590930  10/31/2013 01:53:44 AM                     NaN  DOHMH   \n",
       "\n",
       "                               Agency Name           Complaint Type  \\\n",
       "0          New York City Police Department  Noise - Street/Sidewalk   \n",
       "1          New York City Police Department          Illegal Parking   \n",
       "2          New York City Police Department       Noise - Commercial   \n",
       "3          New York City Police Department          Noise - Vehicle   \n",
       "4  Department of Health and Mental Hygiene                   Rodent   \n",
       "\n",
       "                     Descriptor        Location Type Incident Zip  \\\n",
       "0                  Loud Talking      Street/Sidewalk        11432   \n",
       "1  Commercial Overnight Parking      Street/Sidewalk        11378   \n",
       "2              Loud Music/Party  Club/Bar/Restaurant        10032   \n",
       "3                Car/Truck Horn      Street/Sidewalk        10023   \n",
       "4  Condition Attracting Rodents           Vacant Lot        10027   \n",
       "\n",
       "   Incident Address  ... Bridge Highway Name Bridge Highway Direction  \\\n",
       "0  90-03 169 STREET  ...                 NaN                      NaN   \n",
       "1         58 AVENUE  ...                 NaN                      NaN   \n",
       "2     4060 BROADWAY  ...                 NaN                      NaN   \n",
       "3    WEST 72 STREET  ...                 NaN                      NaN   \n",
       "4   WEST 124 STREET  ...                 NaN                      NaN   \n",
       "\n",
       "  Road Ramp Bridge Highway Segment Garage Lot Name Ferry Direction  \\\n",
       "0       NaN                    NaN             NaN             NaN   \n",
       "1       NaN                    NaN             NaN             NaN   \n",
       "2       NaN                    NaN             NaN             NaN   \n",
       "3       NaN                    NaN             NaN             NaN   \n",
       "4       NaN                    NaN             NaN             NaN   \n",
       "\n",
       "  Ferry Terminal Name            Latitude           Longitude  \\\n",
       "0                 NaN   40.70827532593202  -73.79160395779721   \n",
       "1                 NaN  40.721040535628305  -73.90945306791765   \n",
       "2                 NaN   40.84332975466513  -73.93914371913482   \n",
       "3                 NaN    40.7780087446372  -73.98021349023975   \n",
       "4                 NaN   40.80769092704951  -73.94738703491433   \n",
       "\n",
       "                                   Location  \n",
       "0   (40.70827532593202, -73.79160395779721)  \n",
       "1  (40.721040535628305, -73.90945306791765)  \n",
       "2   (40.84332975466513, -73.93914371913482)  \n",
       "3    (40.7780087446372, -73.98021349023975)  \n",
       "4   (40.80769092704951, -73.94738703491433)  \n",
       "\n",
       "[5 rows x 52 columns]"
      ]
     },
     "execution_count": 3,
     "metadata": {},
     "output_type": "execute_result"
    }
   ],
   "source": [
    "# This shows the first 5 rows in the dataset.\n",
    "complaints.head()"
   ]
  },
  {
   "cell_type": "code",
   "execution_count": 4,
   "id": "19df30bd",
   "metadata": {},
   "outputs": [
    {
     "data": {
      "text/html": [
       "<div>\n",
       "<style scoped>\n",
       "    .dataframe tbody tr th:only-of-type {\n",
       "        vertical-align: middle;\n",
       "    }\n",
       "\n",
       "    .dataframe tbody tr th {\n",
       "        vertical-align: top;\n",
       "    }\n",
       "\n",
       "    .dataframe thead th {\n",
       "        text-align: right;\n",
       "    }\n",
       "</style>\n",
       "<table border=\"1\" class=\"dataframe\">\n",
       "  <thead>\n",
       "    <tr style=\"text-align: right;\">\n",
       "      <th></th>\n",
       "      <th>Unique Key</th>\n",
       "      <th>Created Date</th>\n",
       "      <th>Closed Date</th>\n",
       "      <th>Agency</th>\n",
       "      <th>Agency Name</th>\n",
       "      <th>Complaint Type</th>\n",
       "      <th>Descriptor</th>\n",
       "      <th>Location Type</th>\n",
       "      <th>Incident Zip</th>\n",
       "      <th>Incident Address</th>\n",
       "      <th>...</th>\n",
       "      <th>Bridge Highway Name</th>\n",
       "      <th>Bridge Highway Direction</th>\n",
       "      <th>Road Ramp</th>\n",
       "      <th>Bridge Highway Segment</th>\n",
       "      <th>Garage Lot Name</th>\n",
       "      <th>Ferry Direction</th>\n",
       "      <th>Ferry Terminal Name</th>\n",
       "      <th>Latitude</th>\n",
       "      <th>Longitude</th>\n",
       "      <th>Location</th>\n",
       "    </tr>\n",
       "  </thead>\n",
       "  <tbody>\n",
       "    <tr>\n",
       "      <th>111064</th>\n",
       "      <td>26426013</td>\n",
       "      <td>10/04/2013 12:01:13 AM</td>\n",
       "      <td>10/07/2013 04:07:16 PM</td>\n",
       "      <td>DPR</td>\n",
       "      <td>Department of Parks and Recreation</td>\n",
       "      <td>Maintenance or Facility</td>\n",
       "      <td>Structure - Outdoors</td>\n",
       "      <td>Park</td>\n",
       "      <td>11213</td>\n",
       "      <td>NaN</td>\n",
       "      <td>...</td>\n",
       "      <td>NaN</td>\n",
       "      <td>NaN</td>\n",
       "      <td>NaN</td>\n",
       "      <td>NaN</td>\n",
       "      <td>NaN</td>\n",
       "      <td>NaN</td>\n",
       "      <td>NaN</td>\n",
       "      <td>NaN</td>\n",
       "      <td>NaN</td>\n",
       "      <td>NaN</td>\n",
       "    </tr>\n",
       "    <tr>\n",
       "      <th>111065</th>\n",
       "      <td>26428083</td>\n",
       "      <td>10/04/2013 12:01:05 AM</td>\n",
       "      <td>10/04/2013 02:13:50 AM</td>\n",
       "      <td>NYPD</td>\n",
       "      <td>New York City Police Department</td>\n",
       "      <td>Illegal Parking</td>\n",
       "      <td>Posted Parking Sign Violation</td>\n",
       "      <td>Street/Sidewalk</td>\n",
       "      <td>11434</td>\n",
       "      <td>NaN</td>\n",
       "      <td>...</td>\n",
       "      <td>NaN</td>\n",
       "      <td>NaN</td>\n",
       "      <td>NaN</td>\n",
       "      <td>NaN</td>\n",
       "      <td>NaN</td>\n",
       "      <td>NaN</td>\n",
       "      <td>NaN</td>\n",
       "      <td>40.656160351546845</td>\n",
       "      <td>-73.76735262738222</td>\n",
       "      <td>(40.656160351546845, -73.76735262738222)</td>\n",
       "    </tr>\n",
       "    <tr>\n",
       "      <th>111066</th>\n",
       "      <td>26428987</td>\n",
       "      <td>10/04/2013 12:00:45 AM</td>\n",
       "      <td>10/04/2013 01:25:01 AM</td>\n",
       "      <td>NYPD</td>\n",
       "      <td>New York City Police Department</td>\n",
       "      <td>Noise - Street/Sidewalk</td>\n",
       "      <td>Loud Talking</td>\n",
       "      <td>Street/Sidewalk</td>\n",
       "      <td>10016</td>\n",
       "      <td>344 EAST 28 STREET</td>\n",
       "      <td>...</td>\n",
       "      <td>NaN</td>\n",
       "      <td>NaN</td>\n",
       "      <td>NaN</td>\n",
       "      <td>NaN</td>\n",
       "      <td>NaN</td>\n",
       "      <td>NaN</td>\n",
       "      <td>NaN</td>\n",
       "      <td>40.740295354643706</td>\n",
       "      <td>-73.97695165980414</td>\n",
       "      <td>(40.740295354643706, -73.97695165980414)</td>\n",
       "    </tr>\n",
       "    <tr>\n",
       "      <th>111067</th>\n",
       "      <td>26426115</td>\n",
       "      <td>10/04/2013 12:00:28 AM</td>\n",
       "      <td>10/04/2013 04:17:32 AM</td>\n",
       "      <td>NYPD</td>\n",
       "      <td>New York City Police Department</td>\n",
       "      <td>Noise - Commercial</td>\n",
       "      <td>Loud Talking</td>\n",
       "      <td>Club/Bar/Restaurant</td>\n",
       "      <td>11226</td>\n",
       "      <td>1233 FLATBUSH AVENUE</td>\n",
       "      <td>...</td>\n",
       "      <td>NaN</td>\n",
       "      <td>NaN</td>\n",
       "      <td>NaN</td>\n",
       "      <td>NaN</td>\n",
       "      <td>NaN</td>\n",
       "      <td>NaN</td>\n",
       "      <td>NaN</td>\n",
       "      <td>40.64018174662485</td>\n",
       "      <td>-73.95530566958138</td>\n",
       "      <td>(40.64018174662485, -73.95530566958138)</td>\n",
       "    </tr>\n",
       "    <tr>\n",
       "      <th>111068</th>\n",
       "      <td>26428033</td>\n",
       "      <td>10/04/2013 12:00:10 AM</td>\n",
       "      <td>10/04/2013 01:20:52 AM</td>\n",
       "      <td>NYPD</td>\n",
       "      <td>New York City Police Department</td>\n",
       "      <td>Blocked Driveway</td>\n",
       "      <td>Partial Access</td>\n",
       "      <td>Street/Sidewalk</td>\n",
       "      <td>11236</td>\n",
       "      <td>1259 EAST 94 STREET</td>\n",
       "      <td>...</td>\n",
       "      <td>NaN</td>\n",
       "      <td>NaN</td>\n",
       "      <td>NaN</td>\n",
       "      <td>NaN</td>\n",
       "      <td>NaN</td>\n",
       "      <td>NaN</td>\n",
       "      <td>NaN</td>\n",
       "      <td>40.640024057399216</td>\n",
       "      <td>-73.90071711703163</td>\n",
       "      <td>(40.640024057399216, -73.90071711703163)</td>\n",
       "    </tr>\n",
       "  </tbody>\n",
       "</table>\n",
       "<p>5 rows × 52 columns</p>\n",
       "</div>"
      ],
      "text/plain": [
       "       Unique Key            Created Date             Closed Date Agency  \\\n",
       "111064   26426013  10/04/2013 12:01:13 AM  10/07/2013 04:07:16 PM    DPR   \n",
       "111065   26428083  10/04/2013 12:01:05 AM  10/04/2013 02:13:50 AM   NYPD   \n",
       "111066   26428987  10/04/2013 12:00:45 AM  10/04/2013 01:25:01 AM   NYPD   \n",
       "111067   26426115  10/04/2013 12:00:28 AM  10/04/2013 04:17:32 AM   NYPD   \n",
       "111068   26428033  10/04/2013 12:00:10 AM  10/04/2013 01:20:52 AM   NYPD   \n",
       "\n",
       "                               Agency Name           Complaint Type  \\\n",
       "111064  Department of Parks and Recreation  Maintenance or Facility   \n",
       "111065     New York City Police Department          Illegal Parking   \n",
       "111066     New York City Police Department  Noise - Street/Sidewalk   \n",
       "111067     New York City Police Department       Noise - Commercial   \n",
       "111068     New York City Police Department         Blocked Driveway   \n",
       "\n",
       "                           Descriptor        Location Type Incident Zip  \\\n",
       "111064           Structure - Outdoors                 Park        11213   \n",
       "111065  Posted Parking Sign Violation      Street/Sidewalk        11434   \n",
       "111066                   Loud Talking      Street/Sidewalk        10016   \n",
       "111067                   Loud Talking  Club/Bar/Restaurant        11226   \n",
       "111068                 Partial Access      Street/Sidewalk        11236   \n",
       "\n",
       "            Incident Address  ... Bridge Highway Name  \\\n",
       "111064                   NaN  ...                 NaN   \n",
       "111065                   NaN  ...                 NaN   \n",
       "111066    344 EAST 28 STREET  ...                 NaN   \n",
       "111067  1233 FLATBUSH AVENUE  ...                 NaN   \n",
       "111068   1259 EAST 94 STREET  ...                 NaN   \n",
       "\n",
       "       Bridge Highway Direction Road Ramp Bridge Highway Segment  \\\n",
       "111064                      NaN       NaN                    NaN   \n",
       "111065                      NaN       NaN                    NaN   \n",
       "111066                      NaN       NaN                    NaN   \n",
       "111067                      NaN       NaN                    NaN   \n",
       "111068                      NaN       NaN                    NaN   \n",
       "\n",
       "       Garage Lot Name Ferry Direction Ferry Terminal Name  \\\n",
       "111064             NaN             NaN                 NaN   \n",
       "111065             NaN             NaN                 NaN   \n",
       "111066             NaN             NaN                 NaN   \n",
       "111067             NaN             NaN                 NaN   \n",
       "111068             NaN             NaN                 NaN   \n",
       "\n",
       "                  Latitude           Longitude  \\\n",
       "111064                 NaN                 NaN   \n",
       "111065  40.656160351546845  -73.76735262738222   \n",
       "111066  40.740295354643706  -73.97695165980414   \n",
       "111067   40.64018174662485  -73.95530566958138   \n",
       "111068  40.640024057399216  -73.90071711703163   \n",
       "\n",
       "                                        Location  \n",
       "111064                                       NaN  \n",
       "111065  (40.656160351546845, -73.76735262738222)  \n",
       "111066  (40.740295354643706, -73.97695165980414)  \n",
       "111067   (40.64018174662485, -73.95530566958138)  \n",
       "111068  (40.640024057399216, -73.90071711703163)  \n",
       "\n",
       "[5 rows x 52 columns]"
      ]
     },
     "execution_count": 4,
     "metadata": {},
     "output_type": "execute_result"
    }
   ],
   "source": [
    "# This shows the last 5 rows in the dataset.\n",
    "complaints.tail()"
   ]
  },
  {
   "cell_type": "code",
   "execution_count": 5,
   "id": "238b88f6",
   "metadata": {},
   "outputs": [
    {
     "data": {
      "text/html": [
       "<div>\n",
       "<style scoped>\n",
       "    .dataframe tbody tr th:only-of-type {\n",
       "        vertical-align: middle;\n",
       "    }\n",
       "\n",
       "    .dataframe tbody tr th {\n",
       "        vertical-align: top;\n",
       "    }\n",
       "\n",
       "    .dataframe thead th {\n",
       "        text-align: right;\n",
       "    }\n",
       "</style>\n",
       "<table border=\"1\" class=\"dataframe\">\n",
       "  <thead>\n",
       "    <tr style=\"text-align: right;\">\n",
       "      <th></th>\n",
       "      <th>Unique Key</th>\n",
       "      <th>Created Date</th>\n",
       "      <th>Closed Date</th>\n",
       "      <th>Agency</th>\n",
       "      <th>Agency Name</th>\n",
       "      <th>Complaint Type</th>\n",
       "      <th>Descriptor</th>\n",
       "      <th>Location Type</th>\n",
       "      <th>Incident Zip</th>\n",
       "      <th>Incident Address</th>\n",
       "      <th>...</th>\n",
       "      <th>Bridge Highway Name</th>\n",
       "      <th>Bridge Highway Direction</th>\n",
       "      <th>Road Ramp</th>\n",
       "      <th>Bridge Highway Segment</th>\n",
       "      <th>Garage Lot Name</th>\n",
       "      <th>Ferry Direction</th>\n",
       "      <th>Ferry Terminal Name</th>\n",
       "      <th>Latitude</th>\n",
       "      <th>Longitude</th>\n",
       "      <th>Location</th>\n",
       "    </tr>\n",
       "  </thead>\n",
       "  <tbody>\n",
       "    <tr>\n",
       "      <th>62</th>\n",
       "      <td>26594900</td>\n",
       "      <td>10/31/2013 12:00:00 AM</td>\n",
       "      <td>NaN</td>\n",
       "      <td>HPD</td>\n",
       "      <td>Department of Housing Preservation and Develop...</td>\n",
       "      <td>HEATING</td>\n",
       "      <td>HEAT</td>\n",
       "      <td>RESIDENTIAL BUILDING</td>\n",
       "      <td>10469</td>\n",
       "      <td>917 MACE AVENUE</td>\n",
       "      <td>...</td>\n",
       "      <td>NaN</td>\n",
       "      <td>NaN</td>\n",
       "      <td>NaN</td>\n",
       "      <td>NaN</td>\n",
       "      <td>NaN</td>\n",
       "      <td>NaN</td>\n",
       "      <td>NaN</td>\n",
       "      <td>40.86310343131708</td>\n",
       "      <td>-73.86091223589236</td>\n",
       "      <td>(40.86310343131708, -73.86091223589236)</td>\n",
       "    </tr>\n",
       "  </tbody>\n",
       "</table>\n",
       "<p>1 rows × 52 columns</p>\n",
       "</div>"
      ],
      "text/plain": [
       "   Unique Key            Created Date Closed Date Agency  \\\n",
       "62   26594900  10/31/2013 12:00:00 AM         NaN    HPD   \n",
       "\n",
       "                                          Agency Name Complaint Type  \\\n",
       "62  Department of Housing Preservation and Develop...        HEATING   \n",
       "\n",
       "   Descriptor         Location Type Incident Zip Incident Address  ...  \\\n",
       "62       HEAT  RESIDENTIAL BUILDING        10469  917 MACE AVENUE  ...   \n",
       "\n",
       "   Bridge Highway Name Bridge Highway Direction Road Ramp  \\\n",
       "62                 NaN                      NaN       NaN   \n",
       "\n",
       "   Bridge Highway Segment Garage Lot Name Ferry Direction Ferry Terminal Name  \\\n",
       "62                    NaN             NaN             NaN                 NaN   \n",
       "\n",
       "             Latitude           Longitude  \\\n",
       "62  40.86310343131708  -73.86091223589236   \n",
       "\n",
       "                                   Location  \n",
       "62  (40.86310343131708, -73.86091223589236)  \n",
       "\n",
       "[1 rows x 52 columns]"
      ]
     },
     "execution_count": 5,
     "metadata": {},
     "output_type": "execute_result"
    }
   ],
   "source": [
    "# This chooses a random row from the dataset and displays all its information.\n",
    "complaints.sample()"
   ]
  },
  {
   "cell_type": "code",
   "execution_count": 6,
   "id": "143afebf",
   "metadata": {},
   "outputs": [
    {
     "name": "stdout",
     "output_type": "stream",
     "text": [
      "<class 'pandas.core.frame.DataFrame'>\n",
      "RangeIndex: 111069 entries, 0 to 111068\n",
      "Data columns (total 52 columns):\n",
      " #   Column                          Non-Null Count   Dtype \n",
      "---  ------                          --------------   ----- \n",
      " 0   Unique Key                      111069 non-null  object\n",
      " 1   Created Date                    111069 non-null  object\n",
      " 2   Closed Date                     60270 non-null   object\n",
      " 3   Agency                          111069 non-null  object\n",
      " 4   Agency Name                     111069 non-null  object\n",
      " 5   Complaint Type                  111069 non-null  object\n",
      " 6   Descriptor                      110613 non-null  object\n",
      " 7   Location Type                   79022 non-null   object\n",
      " 8   Incident Zip                    98807 non-null   object\n",
      " 9   Incident Address                84441 non-null   object\n",
      " 10  Street Name                     84432 non-null   object\n",
      " 11  Cross Street 1                  84728 non-null   object\n",
      " 12  Cross Street 2                  84005 non-null   object\n",
      " 13  Intersection Street 1           19364 non-null   object\n",
      " 14  Intersection Street 2           19366 non-null   object\n",
      " 15  Address Type                    102247 non-null  object\n",
      " 16  City                            98854 non-null   object\n",
      " 17  Landmark                        95 non-null      object\n",
      " 18  Facility Type                   19104 non-null   object\n",
      " 19  Status                          111069 non-null  object\n",
      " 20  Due Date                        39239 non-null   object\n",
      " 21  Resolution Action Updated Date  96507 non-null   object\n",
      " 22  Community Board                 111069 non-null  object\n",
      " 23  Borough                         111069 non-null  object\n",
      " 24  X Coordinate (State Plane)      98143 non-null   object\n",
      " 25  Y Coordinate (State Plane)      98143 non-null   object\n",
      " 26  Park Facility Name              111069 non-null  object\n",
      " 27  Park Borough                    111069 non-null  object\n",
      " 28  School Name                     111069 non-null  object\n",
      " 29  School Number                   111048 non-null  object\n",
      " 30  School Region                   110524 non-null  object\n",
      " 31  School Code                     110524 non-null  object\n",
      " 32  School Phone Number             111069 non-null  object\n",
      " 33  School Address                  111069 non-null  object\n",
      " 34  School City                     111069 non-null  object\n",
      " 35  School State                    111069 non-null  object\n",
      " 36  School Zip                      111069 non-null  object\n",
      " 37  School Not Found                38984 non-null   object\n",
      " 38  School or Citywide Complaint    0 non-null       object\n",
      " 39  Vehicle Type                    99 non-null      object\n",
      " 40  Taxi Company Borough            117 non-null     object\n",
      " 41  Taxi Pick Up Location           1059 non-null    object\n",
      " 42  Bridge Highway Name             185 non-null     object\n",
      " 43  Bridge Highway Direction        185 non-null     object\n",
      " 44  Road Ramp                       180 non-null     object\n",
      " 45  Bridge Highway Segment          219 non-null     object\n",
      " 46  Garage Lot Name                 49 non-null      object\n",
      " 47  Ferry Direction                 24 non-null      object\n",
      " 48  Ferry Terminal Name             70 non-null      object\n",
      " 49  Latitude                        98143 non-null   object\n",
      " 50  Longitude                       98143 non-null   object\n",
      " 51  Location                        98143 non-null   object\n",
      "dtypes: object(52)\n",
      "memory usage: 44.1+ MB\n"
     ]
    }
   ],
   "source": [
    "# This shows all the columns in the dataset and what data type they are, as well as the number of null entries.\n",
    "complaints.info()"
   ]
  },
  {
   "cell_type": "code",
   "execution_count": 7,
   "id": "6173fad9",
   "metadata": {},
   "outputs": [
    {
     "data": {
      "text/plain": [
       "(111069, 52)"
      ]
     },
     "execution_count": 7,
     "metadata": {},
     "output_type": "execute_result"
    }
   ],
   "source": [
    "# This shows that there are 111069 rows and 52 columns in the dataset.\n",
    "complaints.shape"
   ]
  },
  {
   "cell_type": "code",
   "execution_count": 8,
   "id": "15c93d72",
   "metadata": {},
   "outputs": [
    {
     "data": {
      "text/plain": [
       "Index(['Unique Key', 'Created Date', 'Closed Date', 'Agency', 'Agency Name',\n",
       "       'Complaint Type', 'Descriptor', 'Location Type', 'Incident Zip',\n",
       "       'Incident Address', 'Street Name', 'Cross Street 1', 'Cross Street 2',\n",
       "       'Intersection Street 1', 'Intersection Street 2', 'Address Type',\n",
       "       'City', 'Landmark', 'Facility Type', 'Status', 'Due Date',\n",
       "       'Resolution Action Updated Date', 'Community Board', 'Borough',\n",
       "       'X Coordinate (State Plane)', 'Y Coordinate (State Plane)',\n",
       "       'Park Facility Name', 'Park Borough', 'School Name', 'School Number',\n",
       "       'School Region', 'School Code', 'School Phone Number', 'School Address',\n",
       "       'School City', 'School State', 'School Zip', 'School Not Found',\n",
       "       'School or Citywide Complaint', 'Vehicle Type', 'Taxi Company Borough',\n",
       "       'Taxi Pick Up Location', 'Bridge Highway Name',\n",
       "       'Bridge Highway Direction', 'Road Ramp', 'Bridge Highway Segment',\n",
       "       'Garage Lot Name', 'Ferry Direction', 'Ferry Terminal Name', 'Latitude',\n",
       "       'Longitude', 'Location'],\n",
       "      dtype='object')"
      ]
     },
     "execution_count": 8,
     "metadata": {},
     "output_type": "execute_result"
    }
   ],
   "source": [
    "# This lists all the columns in the dataset.\n",
    "complaints.columns"
   ]
  },
  {
   "cell_type": "markdown",
   "id": "6a327e7b",
   "metadata": {},
   "source": [
    "### spaces in column names are replaced with ‘_’\n",
    "complaints.columns =[column.replace(\" \", \"_\") \n",
    "                     for column in complaints.columns]\n",
    "- this changes all the spaces in the columns names to '_'"
   ]
  },
  {
   "cell_type": "code",
   "execution_count": 9,
   "id": "fa1bac92",
   "metadata": {},
   "outputs": [],
   "source": [
    "complaints.columns =[column.replace(\" \", \"_\") \n",
    "                     for column in complaints.columns]"
   ]
  },
  {
   "cell_type": "markdown",
   "id": "11b85e04",
   "metadata": {},
   "source": [
    "### 3. Which month and year the complains received?\n"
   ]
  },
  {
   "cell_type": "code",
   "execution_count": 10,
   "id": "331e7856",
   "metadata": {},
   "outputs": [
    {
     "data": {
      "text/plain": [
       "Index(['Unique_Key', 'Created_Date', 'Closed_Date', 'Agency', 'Agency_Name',\n",
       "       'Complaint_Type', 'Descriptor', 'Location_Type', 'Incident_Zip',\n",
       "       'Incident_Address', 'Street_Name', 'Cross_Street_1', 'Cross_Street_2',\n",
       "       'Intersection_Street_1', 'Intersection_Street_2', 'Address_Type',\n",
       "       'City', 'Landmark', 'Facility_Type', 'Status', 'Due_Date',\n",
       "       'Resolution_Action_Updated_Date', 'Community_Board', 'Borough',\n",
       "       'X_Coordinate_(State_Plane)', 'Y_Coordinate_(State_Plane)',\n",
       "       'Park_Facility_Name', 'Park_Borough', 'School_Name', 'School_Number',\n",
       "       'School_Region', 'School_Code', 'School_Phone_Number', 'School_Address',\n",
       "       'School_City', 'School_State', 'School_Zip', 'School_Not_Found',\n",
       "       'School_or_Citywide_Complaint', 'Vehicle_Type', 'Taxi_Company_Borough',\n",
       "       'Taxi_Pick_Up_Location', 'Bridge_Highway_Name',\n",
       "       'Bridge_Highway_Direction', 'Road_Ramp', 'Bridge_Highway_Segment',\n",
       "       'Garage_Lot_Name', 'Ferry_Direction', 'Ferry_Terminal_Name', 'Latitude',\n",
       "       'Longitude', 'Location'],\n",
       "      dtype='object')"
      ]
     },
     "execution_count": 10,
     "metadata": {},
     "output_type": "execute_result"
    }
   ],
   "source": [
    "complaints.columns"
   ]
  },
  {
   "cell_type": "code",
   "execution_count": 11,
   "id": "1bc9c09a",
   "metadata": {},
   "outputs": [],
   "source": [
    "complaints['Created_Date'] = pd.to_datetime(complaints['Created_Date'])"
   ]
  },
  {
   "cell_type": "code",
   "execution_count": 12,
   "id": "9d422479",
   "metadata": {},
   "outputs": [],
   "source": [
    "# lets create a column that tells you which year the person stopped\n",
    "complaints['month'] = complaints['Created_Date'].dt.month"
   ]
  },
  {
   "cell_type": "code",
   "execution_count": 13,
   "id": "33109a22",
   "metadata": {},
   "outputs": [],
   "source": [
    "complaints['year'] = complaints['Created_Date'].dt.year"
   ]
  },
  {
   "cell_type": "code",
   "execution_count": 14,
   "id": "afeb90a0",
   "metadata": {},
   "outputs": [
    {
     "name": "stdout",
     "output_type": "stream",
     "text": [
      "<class 'pandas.core.frame.DataFrame'>\n",
      "RangeIndex: 111069 entries, 0 to 111068\n",
      "Data columns (total 54 columns):\n",
      " #   Column                          Non-Null Count   Dtype         \n",
      "---  ------                          --------------   -----         \n",
      " 0   Unique_Key                      111069 non-null  object        \n",
      " 1   Created_Date                    111069 non-null  datetime64[ns]\n",
      " 2   Closed_Date                     60270 non-null   object        \n",
      " 3   Agency                          111069 non-null  object        \n",
      " 4   Agency_Name                     111069 non-null  object        \n",
      " 5   Complaint_Type                  111069 non-null  object        \n",
      " 6   Descriptor                      110613 non-null  object        \n",
      " 7   Location_Type                   79022 non-null   object        \n",
      " 8   Incident_Zip                    98807 non-null   object        \n",
      " 9   Incident_Address                84441 non-null   object        \n",
      " 10  Street_Name                     84432 non-null   object        \n",
      " 11  Cross_Street_1                  84728 non-null   object        \n",
      " 12  Cross_Street_2                  84005 non-null   object        \n",
      " 13  Intersection_Street_1           19364 non-null   object        \n",
      " 14  Intersection_Street_2           19366 non-null   object        \n",
      " 15  Address_Type                    102247 non-null  object        \n",
      " 16  City                            98854 non-null   object        \n",
      " 17  Landmark                        95 non-null      object        \n",
      " 18  Facility_Type                   19104 non-null   object        \n",
      " 19  Status                          111069 non-null  object        \n",
      " 20  Due_Date                        39239 non-null   object        \n",
      " 21  Resolution_Action_Updated_Date  96507 non-null   object        \n",
      " 22  Community_Board                 111069 non-null  object        \n",
      " 23  Borough                         111069 non-null  object        \n",
      " 24  X_Coordinate_(State_Plane)      98143 non-null   object        \n",
      " 25  Y_Coordinate_(State_Plane)      98143 non-null   object        \n",
      " 26  Park_Facility_Name              111069 non-null  object        \n",
      " 27  Park_Borough                    111069 non-null  object        \n",
      " 28  School_Name                     111069 non-null  object        \n",
      " 29  School_Number                   111048 non-null  object        \n",
      " 30  School_Region                   110524 non-null  object        \n",
      " 31  School_Code                     110524 non-null  object        \n",
      " 32  School_Phone_Number             111069 non-null  object        \n",
      " 33  School_Address                  111069 non-null  object        \n",
      " 34  School_City                     111069 non-null  object        \n",
      " 35  School_State                    111069 non-null  object        \n",
      " 36  School_Zip                      111069 non-null  object        \n",
      " 37  School_Not_Found                38984 non-null   object        \n",
      " 38  School_or_Citywide_Complaint    0 non-null       object        \n",
      " 39  Vehicle_Type                    99 non-null      object        \n",
      " 40  Taxi_Company_Borough            117 non-null     object        \n",
      " 41  Taxi_Pick_Up_Location           1059 non-null    object        \n",
      " 42  Bridge_Highway_Name             185 non-null     object        \n",
      " 43  Bridge_Highway_Direction        185 non-null     object        \n",
      " 44  Road_Ramp                       180 non-null     object        \n",
      " 45  Bridge_Highway_Segment          219 non-null     object        \n",
      " 46  Garage_Lot_Name                 49 non-null      object        \n",
      " 47  Ferry_Direction                 24 non-null      object        \n",
      " 48  Ferry_Terminal_Name             70 non-null      object        \n",
      " 49  Latitude                        98143 non-null   object        \n",
      " 50  Longitude                       98143 non-null   object        \n",
      " 51  Location                        98143 non-null   object        \n",
      " 52  month                           111069 non-null  int64         \n",
      " 53  year                            111069 non-null  int64         \n",
      "dtypes: datetime64[ns](1), int64(2), object(51)\n",
      "memory usage: 45.8+ MB\n"
     ]
    }
   ],
   "source": [
    "complaints.info()"
   ]
  },
  {
   "cell_type": "code",
   "execution_count": 15,
   "id": "b6b8c043",
   "metadata": {},
   "outputs": [
    {
     "data": {
      "text/plain": [
       "10    111069\n",
       "Name: month, dtype: int64"
      ]
     },
     "execution_count": 15,
     "metadata": {},
     "output_type": "execute_result"
    }
   ],
   "source": [
    "complaints['month'].value_counts()"
   ]
  },
  {
   "cell_type": "code",
   "execution_count": 16,
   "id": "781bef04",
   "metadata": {},
   "outputs": [
    {
     "data": {
      "text/plain": [
       "2013    111069\n",
       "Name: year, dtype: int64"
      ]
     },
     "execution_count": 16,
     "metadata": {},
     "output_type": "execute_result"
    }
   ],
   "source": [
    "complaints['year'].value_counts()"
   ]
  },
  {
   "cell_type": "markdown",
   "id": "b0463a31",
   "metadata": {},
   "source": [
    "Answer: The complaints were received in October of 2013."
   ]
  },
  {
   "cell_type": "markdown",
   "id": "09eb4d20",
   "metadata": {},
   "source": [
    "### 4. Drop the columns which you are not going to use for any analysis/ not bringing any meaningful informations/ most of the entries are null (Find out 5 and explain why you selected that)"
   ]
  },
  {
   "cell_type": "code",
   "execution_count": 17,
   "id": "e34f714b",
   "metadata": {},
   "outputs": [
    {
     "name": "stdout",
     "output_type": "stream",
     "text": [
      "<class 'pandas.core.frame.DataFrame'>\n",
      "RangeIndex: 111069 entries, 0 to 111068\n",
      "Data columns (total 54 columns):\n",
      " #   Column                          Non-Null Count   Dtype         \n",
      "---  ------                          --------------   -----         \n",
      " 0   Unique_Key                      111069 non-null  object        \n",
      " 1   Created_Date                    111069 non-null  datetime64[ns]\n",
      " 2   Closed_Date                     60270 non-null   object        \n",
      " 3   Agency                          111069 non-null  object        \n",
      " 4   Agency_Name                     111069 non-null  object        \n",
      " 5   Complaint_Type                  111069 non-null  object        \n",
      " 6   Descriptor                      110613 non-null  object        \n",
      " 7   Location_Type                   79022 non-null   object        \n",
      " 8   Incident_Zip                    98807 non-null   object        \n",
      " 9   Incident_Address                84441 non-null   object        \n",
      " 10  Street_Name                     84432 non-null   object        \n",
      " 11  Cross_Street_1                  84728 non-null   object        \n",
      " 12  Cross_Street_2                  84005 non-null   object        \n",
      " 13  Intersection_Street_1           19364 non-null   object        \n",
      " 14  Intersection_Street_2           19366 non-null   object        \n",
      " 15  Address_Type                    102247 non-null  object        \n",
      " 16  City                            98854 non-null   object        \n",
      " 17  Landmark                        95 non-null      object        \n",
      " 18  Facility_Type                   19104 non-null   object        \n",
      " 19  Status                          111069 non-null  object        \n",
      " 20  Due_Date                        39239 non-null   object        \n",
      " 21  Resolution_Action_Updated_Date  96507 non-null   object        \n",
      " 22  Community_Board                 111069 non-null  object        \n",
      " 23  Borough                         111069 non-null  object        \n",
      " 24  X_Coordinate_(State_Plane)      98143 non-null   object        \n",
      " 25  Y_Coordinate_(State_Plane)      98143 non-null   object        \n",
      " 26  Park_Facility_Name              111069 non-null  object        \n",
      " 27  Park_Borough                    111069 non-null  object        \n",
      " 28  School_Name                     111069 non-null  object        \n",
      " 29  School_Number                   111048 non-null  object        \n",
      " 30  School_Region                   110524 non-null  object        \n",
      " 31  School_Code                     110524 non-null  object        \n",
      " 32  School_Phone_Number             111069 non-null  object        \n",
      " 33  School_Address                  111069 non-null  object        \n",
      " 34  School_City                     111069 non-null  object        \n",
      " 35  School_State                    111069 non-null  object        \n",
      " 36  School_Zip                      111069 non-null  object        \n",
      " 37  School_Not_Found                38984 non-null   object        \n",
      " 38  School_or_Citywide_Complaint    0 non-null       object        \n",
      " 39  Vehicle_Type                    99 non-null      object        \n",
      " 40  Taxi_Company_Borough            117 non-null     object        \n",
      " 41  Taxi_Pick_Up_Location           1059 non-null    object        \n",
      " 42  Bridge_Highway_Name             185 non-null     object        \n",
      " 43  Bridge_Highway_Direction        185 non-null     object        \n",
      " 44  Road_Ramp                       180 non-null     object        \n",
      " 45  Bridge_Highway_Segment          219 non-null     object        \n",
      " 46  Garage_Lot_Name                 49 non-null      object        \n",
      " 47  Ferry_Direction                 24 non-null      object        \n",
      " 48  Ferry_Terminal_Name             70 non-null      object        \n",
      " 49  Latitude                        98143 non-null   object        \n",
      " 50  Longitude                       98143 non-null   object        \n",
      " 51  Location                        98143 non-null   object        \n",
      " 52  month                           111069 non-null  int64         \n",
      " 53  year                            111069 non-null  int64         \n",
      "dtypes: datetime64[ns](1), int64(2), object(51)\n",
      "memory usage: 45.8+ MB\n"
     ]
    }
   ],
   "source": [
    "complaints.info()"
   ]
  },
  {
   "cell_type": "markdown",
   "id": "104ebe2c",
   "metadata": {},
   "source": [
    "Answer: We are going to drop the school_or_citywide_complaint because there are no values in that column (filled with null values), latitude and longitude because they are repeats of location, landmark because it is a repeat of location and is missing most of their values, and ferry_direction because it is missing a lot of its values and you can find the ferry direction based on the ferry terminal name."
   ]
  },
  {
   "cell_type": "code",
   "execution_count": 18,
   "id": "6ef2ffd5",
   "metadata": {},
   "outputs": [
    {
     "data": {
      "text/plain": [
       "Index(['Unique_Key', 'Created_Date', 'Closed_Date', 'Agency', 'Agency_Name',\n",
       "       'Complaint_Type', 'Descriptor', 'Location_Type', 'Incident_Zip',\n",
       "       'Incident_Address', 'Street_Name', 'Cross_Street_1', 'Cross_Street_2',\n",
       "       'Intersection_Street_1', 'Intersection_Street_2', 'Address_Type',\n",
       "       'City', 'Landmark', 'Facility_Type', 'Status', 'Due_Date',\n",
       "       'Resolution_Action_Updated_Date', 'Community_Board', 'Borough',\n",
       "       'X_Coordinate_(State_Plane)', 'Y_Coordinate_(State_Plane)',\n",
       "       'Park_Facility_Name', 'Park_Borough', 'School_Name', 'School_Number',\n",
       "       'School_Region', 'School_Code', 'School_Phone_Number', 'School_Address',\n",
       "       'School_City', 'School_State', 'School_Zip', 'School_Not_Found',\n",
       "       'School_or_Citywide_Complaint', 'Vehicle_Type', 'Taxi_Company_Borough',\n",
       "       'Taxi_Pick_Up_Location', 'Bridge_Highway_Name',\n",
       "       'Bridge_Highway_Direction', 'Road_Ramp', 'Bridge_Highway_Segment',\n",
       "       'Garage_Lot_Name', 'Ferry_Direction', 'Ferry_Terminal_Name', 'Latitude',\n",
       "       'Longitude', 'Location', 'month', 'year'],\n",
       "      dtype='object')"
      ]
     },
     "execution_count": 18,
     "metadata": {},
     "output_type": "execute_result"
    }
   ],
   "source": [
    "complaints.columns"
   ]
  },
  {
   "cell_type": "code",
   "execution_count": 19,
   "id": "49ce819b",
   "metadata": {},
   "outputs": [],
   "source": [
    "complaints.drop(['School_or_Citywide_Complaint','Latitude','Longitude','Landmark','Ferry_Direction'], \n",
    "        axis=1, \n",
    "        inplace=True)"
   ]
  },
  {
   "cell_type": "markdown",
   "id": "8f03c7ac",
   "metadata": {},
   "source": [
    "### 5. Is there any missing value in the dataset? Display the list.\n",
    "Impute the missing values in Street_Name, Address_Type, and City "
   ]
  },
  {
   "cell_type": "code",
   "execution_count": 20,
   "id": "793dcae5",
   "metadata": {},
   "outputs": [
    {
     "name": "stdout",
     "output_type": "stream",
     "text": [
      "<class 'pandas.core.frame.DataFrame'>\n",
      "RangeIndex: 111069 entries, 0 to 111068\n",
      "Data columns (total 49 columns):\n",
      " #   Column                          Non-Null Count   Dtype         \n",
      "---  ------                          --------------   -----         \n",
      " 0   Unique_Key                      111069 non-null  object        \n",
      " 1   Created_Date                    111069 non-null  datetime64[ns]\n",
      " 2   Closed_Date                     60270 non-null   object        \n",
      " 3   Agency                          111069 non-null  object        \n",
      " 4   Agency_Name                     111069 non-null  object        \n",
      " 5   Complaint_Type                  111069 non-null  object        \n",
      " 6   Descriptor                      110613 non-null  object        \n",
      " 7   Location_Type                   79022 non-null   object        \n",
      " 8   Incident_Zip                    98807 non-null   object        \n",
      " 9   Incident_Address                84441 non-null   object        \n",
      " 10  Street_Name                     84432 non-null   object        \n",
      " 11  Cross_Street_1                  84728 non-null   object        \n",
      " 12  Cross_Street_2                  84005 non-null   object        \n",
      " 13  Intersection_Street_1           19364 non-null   object        \n",
      " 14  Intersection_Street_2           19366 non-null   object        \n",
      " 15  Address_Type                    102247 non-null  object        \n",
      " 16  City                            98854 non-null   object        \n",
      " 17  Facility_Type                   19104 non-null   object        \n",
      " 18  Status                          111069 non-null  object        \n",
      " 19  Due_Date                        39239 non-null   object        \n",
      " 20  Resolution_Action_Updated_Date  96507 non-null   object        \n",
      " 21  Community_Board                 111069 non-null  object        \n",
      " 22  Borough                         111069 non-null  object        \n",
      " 23  X_Coordinate_(State_Plane)      98143 non-null   object        \n",
      " 24  Y_Coordinate_(State_Plane)      98143 non-null   object        \n",
      " 25  Park_Facility_Name              111069 non-null  object        \n",
      " 26  Park_Borough                    111069 non-null  object        \n",
      " 27  School_Name                     111069 non-null  object        \n",
      " 28  School_Number                   111048 non-null  object        \n",
      " 29  School_Region                   110524 non-null  object        \n",
      " 30  School_Code                     110524 non-null  object        \n",
      " 31  School_Phone_Number             111069 non-null  object        \n",
      " 32  School_Address                  111069 non-null  object        \n",
      " 33  School_City                     111069 non-null  object        \n",
      " 34  School_State                    111069 non-null  object        \n",
      " 35  School_Zip                      111069 non-null  object        \n",
      " 36  School_Not_Found                38984 non-null   object        \n",
      " 37  Vehicle_Type                    99 non-null      object        \n",
      " 38  Taxi_Company_Borough            117 non-null     object        \n",
      " 39  Taxi_Pick_Up_Location           1059 non-null    object        \n",
      " 40  Bridge_Highway_Name             185 non-null     object        \n",
      " 41  Bridge_Highway_Direction        185 non-null     object        \n",
      " 42  Road_Ramp                       180 non-null     object        \n",
      " 43  Bridge_Highway_Segment          219 non-null     object        \n",
      " 44  Garage_Lot_Name                 49 non-null      object        \n",
      " 45  Ferry_Terminal_Name             70 non-null      object        \n",
      " 46  Location                        98143 non-null   object        \n",
      " 47  month                           111069 non-null  int64         \n",
      " 48  year                            111069 non-null  int64         \n",
      "dtypes: datetime64[ns](1), int64(2), object(46)\n",
      "memory usage: 41.5+ MB\n"
     ]
    }
   ],
   "source": [
    "complaints.info()"
   ]
  },
  {
   "cell_type": "code",
   "execution_count": 21,
   "id": "9ec993d3",
   "metadata": {},
   "outputs": [
    {
     "data": {
      "text/plain": [
       "Unique_Key                             0\n",
       "Created_Date                           0\n",
       "Closed_Date                        50799\n",
       "Agency                                 0\n",
       "Agency_Name                            0\n",
       "Complaint_Type                         0\n",
       "Descriptor                           456\n",
       "Location_Type                      32047\n",
       "Incident_Zip                       12262\n",
       "Incident_Address                   26628\n",
       "Street_Name                        26637\n",
       "Cross_Street_1                     26341\n",
       "Cross_Street_2                     27064\n",
       "Intersection_Street_1              91705\n",
       "Intersection_Street_2              91703\n",
       "Address_Type                        8822\n",
       "City                               12215\n",
       "Facility_Type                      91965\n",
       "Status                                 0\n",
       "Due_Date                           71830\n",
       "Resolution_Action_Updated_Date     14562\n",
       "Community_Board                        0\n",
       "Borough                                0\n",
       "X_Coordinate_(State_Plane)         12926\n",
       "Y_Coordinate_(State_Plane)         12926\n",
       "Park_Facility_Name                     0\n",
       "Park_Borough                           0\n",
       "School_Name                            0\n",
       "School_Number                         21\n",
       "School_Region                        545\n",
       "School_Code                          545\n",
       "School_Phone_Number                    0\n",
       "School_Address                         0\n",
       "School_City                            0\n",
       "School_State                           0\n",
       "School_Zip                             0\n",
       "School_Not_Found                   72085\n",
       "Vehicle_Type                      110970\n",
       "Taxi_Company_Borough              110952\n",
       "Taxi_Pick_Up_Location             110010\n",
       "Bridge_Highway_Name               110884\n",
       "Bridge_Highway_Direction          110884\n",
       "Road_Ramp                         110889\n",
       "Bridge_Highway_Segment            110850\n",
       "Garage_Lot_Name                   111020\n",
       "Ferry_Terminal_Name               110999\n",
       "Location                           12926\n",
       "month                                  0\n",
       "year                                   0\n",
       "dtype: int64"
      ]
     },
     "execution_count": 21,
     "metadata": {},
     "output_type": "execute_result"
    }
   ],
   "source": [
    "complaints.isnull().sum()"
   ]
  },
  {
   "cell_type": "markdown",
   "id": "38ada31d",
   "metadata": {},
   "source": [
    "There are missing values in 'Closed_Date', 'Descriptor', 'Location_Type', 'Incident_Zip', 'Incident_Address', \n",
    "'Street_Name', 'Cross_Street_1', 'Cross_Street_2', 'Intersection_Street_1', 'Intersection_Street_2', \n",
    "'Address_Type', 'City', 'Facility_Type', 'Due_Date', 'Resolution_Action_Updated_Date', 'X_Coordinate_(State_Plane)', 'Y_Coordinate_(State_Plane)', 'School_Number', 'School_Region', 'School_Code',\n",
    "'School_Not_Found', 'Vehicle_Type', 'Taxi_Company_Borough', 'Taxi_Pick_Up_Location', 'Bridge_Highway_Name',\n",
    "'Bridge_Highway_Direction', 'Road_Ramp', 'Bridge_Highway_Segment', 'Garage_Lot_Name', 'Ferry_Terminal_Name',\n",
    "and 'Location'."
   ]
  },
  {
   "cell_type": "code",
   "execution_count": 22,
   "id": "998db6da",
   "metadata": {},
   "outputs": [],
   "source": [
    "complaints['Closed_Date'].fillna(complaints['Closed_Date'].mode()[0], inplace=True)"
   ]
  },
  {
   "cell_type": "code",
   "execution_count": 23,
   "id": "374e7a36",
   "metadata": {},
   "outputs": [],
   "source": [
    "complaints['Descriptor'].fillna(complaints['Descriptor'].mode()[0], inplace=True)"
   ]
  },
  {
   "cell_type": "code",
   "execution_count": 24,
   "id": "51d0dfb8",
   "metadata": {},
   "outputs": [],
   "source": [
    "complaints['Location_Type'].fillna(complaints['Location_Type'].mode()[0], inplace=True)"
   ]
  },
  {
   "cell_type": "code",
   "execution_count": 25,
   "id": "fda23f3e",
   "metadata": {},
   "outputs": [],
   "source": [
    "complaints['Incident_Zip'].fillna(complaints['Incident_Zip'].mode()[0], inplace=True)"
   ]
  },
  {
   "cell_type": "code",
   "execution_count": 26,
   "id": "e99bc016",
   "metadata": {},
   "outputs": [],
   "source": [
    "complaints['Incident_Address'].fillna(complaints['Incident_Address'].mode()[0], inplace=True)"
   ]
  },
  {
   "cell_type": "code",
   "execution_count": 27,
   "id": "3097b7c8",
   "metadata": {},
   "outputs": [],
   "source": [
    "complaints['Street_Name'].fillna(complaints['Street_Name'].mode()[0], inplace=True)"
   ]
  },
  {
   "cell_type": "code",
   "execution_count": 28,
   "id": "23b7a540",
   "metadata": {},
   "outputs": [],
   "source": [
    "complaints['Cross_Street_1'].fillna(complaints['Cross_Street_1'].mode()[0], inplace=True)"
   ]
  },
  {
   "cell_type": "code",
   "execution_count": 29,
   "id": "a34ad38c",
   "metadata": {},
   "outputs": [],
   "source": [
    "complaints['Cross_Street_2'].fillna(complaints['Cross_Street_2'].mode()[0], inplace=True)"
   ]
  },
  {
   "cell_type": "code",
   "execution_count": 30,
   "id": "10a6ac62",
   "metadata": {},
   "outputs": [],
   "source": [
    "complaints['Intersection_Street_1'].fillna(complaints['Intersection_Street_1'].mode()[0], inplace=True)"
   ]
  },
  {
   "cell_type": "code",
   "execution_count": 31,
   "id": "40965e85",
   "metadata": {},
   "outputs": [],
   "source": [
    "complaints['Intersection_Street_2'].fillna(complaints['Intersection_Street_2'].mode()[0], inplace=True)"
   ]
  },
  {
   "cell_type": "code",
   "execution_count": 32,
   "id": "ec4a6071",
   "metadata": {},
   "outputs": [],
   "source": [
    "complaints['Address_Type'].fillna(complaints['Address_Type'].mode()[0], inplace=True)"
   ]
  },
  {
   "cell_type": "code",
   "execution_count": 33,
   "id": "e2a2462f",
   "metadata": {},
   "outputs": [],
   "source": [
    "complaints['City'].fillna(complaints['City'].mode()[0], inplace=True)"
   ]
  },
  {
   "cell_type": "code",
   "execution_count": 34,
   "id": "19d4ac6f",
   "metadata": {},
   "outputs": [],
   "source": [
    "complaints['Facility_Type'].fillna(complaints['Facility_Type'].mode()[0], inplace=True)"
   ]
  },
  {
   "cell_type": "code",
   "execution_count": 35,
   "id": "e3ea708d",
   "metadata": {},
   "outputs": [],
   "source": [
    "complaints['Due_Date'].fillna(complaints['Due_Date'].mode()[0], inplace=True)"
   ]
  },
  {
   "cell_type": "code",
   "execution_count": 36,
   "id": "e5ff9fb4",
   "metadata": {},
   "outputs": [],
   "source": [
    "complaints['Resolution_Action_Updated_Date'].fillna(complaints['Resolution_Action_Updated_Date'].mode()[0], inplace=True)"
   ]
  },
  {
   "cell_type": "code",
   "execution_count": 37,
   "id": "d4c8b4e5",
   "metadata": {},
   "outputs": [],
   "source": [
    "complaints['X_Coordinate_(State_Plane)'].fillna(complaints['X_Coordinate_(State_Plane)'].mode()[0], inplace=True)"
   ]
  },
  {
   "cell_type": "code",
   "execution_count": 38,
   "id": "98ebcc31",
   "metadata": {},
   "outputs": [],
   "source": [
    "complaints['Y_Coordinate_(State_Plane)'].fillna(complaints['Y_Coordinate_(State_Plane)'].mode()[0], inplace=True)"
   ]
  },
  {
   "cell_type": "code",
   "execution_count": 39,
   "id": "48b73b2b",
   "metadata": {},
   "outputs": [],
   "source": [
    "complaints['School_Number'].fillna(complaints['School_Number'].mode()[0], inplace=True)"
   ]
  },
  {
   "cell_type": "code",
   "execution_count": 40,
   "id": "e0f5479e",
   "metadata": {},
   "outputs": [],
   "source": [
    "complaints['School_Region'].fillna(complaints['School_Region'].mode()[0], inplace=True)"
   ]
  },
  {
   "cell_type": "code",
   "execution_count": 41,
   "id": "3e9631ca",
   "metadata": {},
   "outputs": [],
   "source": [
    "complaints['School_Code'].fillna(complaints['School_Code'].mode()[0], inplace=True)"
   ]
  },
  {
   "cell_type": "code",
   "execution_count": 42,
   "id": "86e1b7a2",
   "metadata": {},
   "outputs": [],
   "source": [
    "complaints['School_Not_Found'].fillna(complaints['School_Not_Found'].mode()[0], inplace=True)"
   ]
  },
  {
   "cell_type": "code",
   "execution_count": 43,
   "id": "3a983b8a",
   "metadata": {},
   "outputs": [],
   "source": [
    "complaints['Vehicle_Type'].fillna(complaints['Vehicle_Type'].mode()[0], inplace=True)"
   ]
  },
  {
   "cell_type": "code",
   "execution_count": 44,
   "id": "a3f53c5e",
   "metadata": {},
   "outputs": [],
   "source": [
    "complaints['Taxi_Company_Borough'].fillna(complaints['Taxi_Company_Borough'].mode()[0], inplace=True)"
   ]
  },
  {
   "cell_type": "code",
   "execution_count": 45,
   "id": "ba94bd5a",
   "metadata": {},
   "outputs": [],
   "source": [
    "complaints['Taxi_Pick_Up_Location'].fillna(complaints['Taxi_Pick_Up_Location'].mode()[0], inplace=True)"
   ]
  },
  {
   "cell_type": "code",
   "execution_count": 46,
   "id": "c417a713",
   "metadata": {},
   "outputs": [],
   "source": [
    "complaints['Bridge_Highway_Name'].fillna(complaints['Bridge_Highway_Name'].mode()[0], inplace=True)"
   ]
  },
  {
   "cell_type": "code",
   "execution_count": 47,
   "id": "068a733c",
   "metadata": {},
   "outputs": [],
   "source": [
    "complaints['Bridge_Highway_Direction'].fillna(complaints['Bridge_Highway_Direction'].mode()[0], inplace=True)"
   ]
  },
  {
   "cell_type": "code",
   "execution_count": 48,
   "id": "6b951d5d",
   "metadata": {},
   "outputs": [],
   "source": [
    "complaints['Road_Ramp'].fillna(complaints['Road_Ramp'].mode()[0], inplace=True)"
   ]
  },
  {
   "cell_type": "code",
   "execution_count": 49,
   "id": "0133897b",
   "metadata": {},
   "outputs": [],
   "source": [
    "complaints['Bridge_Highway_Segment'].fillna(complaints['Bridge_Highway_Segment'].mode()[0], inplace=True)"
   ]
  },
  {
   "cell_type": "code",
   "execution_count": 50,
   "id": "b86e47fc",
   "metadata": {},
   "outputs": [],
   "source": [
    "complaints['Garage_Lot_Name'].fillna(complaints['Garage_Lot_Name'].mode()[0], inplace=True)"
   ]
  },
  {
   "cell_type": "code",
   "execution_count": 51,
   "id": "acc2ba99",
   "metadata": {},
   "outputs": [],
   "source": [
    "complaints['Ferry_Terminal_Name'].fillna(complaints['Ferry_Terminal_Name'].mode()[0], inplace=True)"
   ]
  },
  {
   "cell_type": "code",
   "execution_count": 52,
   "id": "39373e7e",
   "metadata": {},
   "outputs": [],
   "source": [
    "complaints['Location'].fillna(complaints['Location'].mode()[0], inplace=True)"
   ]
  },
  {
   "cell_type": "code",
   "execution_count": 53,
   "id": "2e1d79e7",
   "metadata": {},
   "outputs": [
    {
     "data": {
      "text/plain": [
       "Unique_Key                        0\n",
       "Created_Date                      0\n",
       "Closed_Date                       0\n",
       "Agency                            0\n",
       "Agency_Name                       0\n",
       "Complaint_Type                    0\n",
       "Descriptor                        0\n",
       "Location_Type                     0\n",
       "Incident_Zip                      0\n",
       "Incident_Address                  0\n",
       "Street_Name                       0\n",
       "Cross_Street_1                    0\n",
       "Cross_Street_2                    0\n",
       "Intersection_Street_1             0\n",
       "Intersection_Street_2             0\n",
       "Address_Type                      0\n",
       "City                              0\n",
       "Facility_Type                     0\n",
       "Status                            0\n",
       "Due_Date                          0\n",
       "Resolution_Action_Updated_Date    0\n",
       "Community_Board                   0\n",
       "Borough                           0\n",
       "X_Coordinate_(State_Plane)        0\n",
       "Y_Coordinate_(State_Plane)        0\n",
       "Park_Facility_Name                0\n",
       "Park_Borough                      0\n",
       "School_Name                       0\n",
       "School_Number                     0\n",
       "School_Region                     0\n",
       "School_Code                       0\n",
       "School_Phone_Number               0\n",
       "School_Address                    0\n",
       "School_City                       0\n",
       "School_State                      0\n",
       "School_Zip                        0\n",
       "School_Not_Found                  0\n",
       "Vehicle_Type                      0\n",
       "Taxi_Company_Borough              0\n",
       "Taxi_Pick_Up_Location             0\n",
       "Bridge_Highway_Name               0\n",
       "Bridge_Highway_Direction          0\n",
       "Road_Ramp                         0\n",
       "Bridge_Highway_Segment            0\n",
       "Garage_Lot_Name                   0\n",
       "Ferry_Terminal_Name               0\n",
       "Location                          0\n",
       "month                             0\n",
       "year                              0\n",
       "dtype: int64"
      ]
     },
     "execution_count": 53,
     "metadata": {},
     "output_type": "execute_result"
    }
   ],
   "source": [
    "complaints.isnull().sum()"
   ]
  },
  {
   "cell_type": "markdown",
   "id": "deceda69",
   "metadata": {},
   "source": [
    "Answer: This shows that all of the missing values have been imputed using mode and there are no more null values."
   ]
  },
  {
   "cell_type": "markdown",
   "id": "f4204a94",
   "metadata": {},
   "source": [
    "**SHOULD HAVE USED \"UNKNOWN\" FOR LOTS OF MISSING CATEGORICAL DATA**"
   ]
  },
  {
   "cell_type": "markdown",
   "id": "8788539e",
   "metadata": {},
   "source": [
    "### 6. What are the top 5 `complains` received? Show the result graphically using bar plot."
   ]
  },
  {
   "cell_type": "code",
   "execution_count": 54,
   "id": "a62f5656",
   "metadata": {},
   "outputs": [
    {
     "data": {
      "text/plain": [
       "<AxesSubplot:>"
      ]
     },
     "execution_count": 54,
     "metadata": {},
     "output_type": "execute_result"
    },
    {
     "data": {
      "image/png": "[encoded data removed]",
      "text/plain": [
       "<Figure size 432x288 with 1 Axes>"
      ]
     },
     "metadata": {
      "needs_background": "light"
     },
     "output_type": "display_data"
    }
   ],
   "source": [
    "complaints['Complaint_Type'].value_counts().head(5).plot(kind=\"bar\")"
   ]
  },
  {
   "cell_type": "markdown",
   "id": "fe3aa3e2",
   "metadata": {},
   "source": [
    "Answer: The top 5 complaints received are heating, general construction, street light condition, DOF literature request, and plumbing."
   ]
  },
  {
   "cell_type": "markdown",
   "id": "890fbcc6",
   "metadata": {},
   "source": [
    "### 7. What's the most common `Borough` the complain came? Display top 5 most and plot them out"
   ]
  },
  {
   "cell_type": "code",
   "execution_count": 55,
   "id": "76006b20",
   "metadata": {},
   "outputs": [
    {
     "data": {
      "text/plain": [
       "<AxesSubplot:>"
      ]
     },
     "execution_count": 55,
     "metadata": {},
     "output_type": "execute_result"
    },
    {
     "data": {
      "image/png": "[encoded data removed]",
      "text/plain": [
       "<Figure size 432x288 with 1 Axes>"
      ]
     },
     "metadata": {
      "needs_background": "light"
     },
     "output_type": "display_data"
    }
   ],
   "source": [
    "complaints['Borough'].value_counts().head(5).plot(kind=\"bar\")"
   ]
  },
  {
   "cell_type": "markdown",
   "id": "404e8c9d",
   "metadata": {},
   "source": [
    "Answer: The most common borough complaint was in Brooklyn and the top five were from Brooklyn, Manhattan, Queens, the Bronx, and Unspecified."
   ]
  },
  {
   "cell_type": "markdown",
   "id": "b720399e",
   "metadata": {},
   "source": [
    "### 8. Which agency received the most complain and which one least?"
   ]
  },
  {
   "cell_type": "code",
   "execution_count": 56,
   "id": "f443de09",
   "metadata": {},
   "outputs": [
    {
     "data": {
      "text/plain": [
       "Department of Housing Preservation and Development    39067\n",
       "Name: Agency_Name, dtype: int64"
      ]
     },
     "execution_count": 56,
     "metadata": {},
     "output_type": "execute_result"
    }
   ],
   "source": [
    "complaints[\"Agency_Name\"].value_counts().head(1)"
   ]
  },
  {
   "cell_type": "code",
   "execution_count": 57,
   "id": "9aee5887",
   "metadata": {},
   "outputs": [
    {
     "data": {
      "text/plain": [
       "School - Grace Dodge Career and Technical Education High School    1\n",
       "Name: Agency_Name, dtype: int64"
      ]
     },
     "execution_count": 57,
     "metadata": {},
     "output_type": "execute_result"
    }
   ],
   "source": [
    "complaints[\"Agency_Name\"].value_counts().tail(1)"
   ]
  },
  {
   "cell_type": "markdown",
   "id": "ff974987",
   "metadata": {},
   "source": [
    "Answer: The Department of Housing Preservation and Development had the most complaints."
   ]
  },
  {
   "cell_type": "markdown",
   "id": "3bb034e2",
   "metadata": {},
   "source": [
    "Answer: THe School - Grace Dodge Career and Technical Education High School had the least complaints."
   ]
  },
  {
   "cell_type": "code",
   "execution_count": 58,
   "id": "dcae8369",
   "metadata": {},
   "outputs": [
    {
     "data": {
      "text/plain": [
       "<AxesSubplot:>"
      ]
     },
     "execution_count": 58,
     "metadata": {},
     "output_type": "execute_result"
    },
    {
     "data": {
      "image/png": "[encoded data removed]",
      "text/plain": [
       "<Figure size 432x288 with 1 Axes>"
      ]
     },
     "metadata": {
      "needs_background": "light"
     },
     "output_type": "display_data"
    }
   ],
   "source": [
    "complaints['Agency'].value_counts().plot(kind=\"bar\")"
   ]
  },
  {
   "cell_type": "markdown",
   "id": "80f616d0",
   "metadata": {},
   "source": [
    "Answer: The agency that received the most complaints was HPD and the agency that received the least complaints was CMB."
   ]
  },
  {
   "cell_type": "markdown",
   "id": "e7de9245",
   "metadata": {},
   "source": [
    "## 9. Investigate the data set and look for meaningful information for two more questions (Indivijual/ discuss with partner)\n",
    "We will discuss the new findings in Tuesday's class"
   ]
  },
  {
   "cell_type": "code",
   "execution_count": 59,
   "id": "f24f5790",
   "metadata": {},
   "outputs": [
    {
     "data": {
      "text/plain": [
       "<AxesSubplot:>"
      ]
     },
     "execution_count": 59,
     "metadata": {},
     "output_type": "execute_result"
    },
    {
     "data": {
      "image/png": "[encoded data removed]",
      "text/plain": [
       "<Figure size 432x288 with 1 Axes>"
      ]
     },
     "metadata": {
      "needs_background": "light"
     },
     "output_type": "display_data"
    }
   ],
   "source": [
    "# what are the top 5 descriptors of the complaints received?\n",
    "complaints['Descriptor'].value_counts().head(5).plot(kind=\"bar\")"
   ]
  },
  {
   "cell_type": "markdown",
   "id": "bcff9d75",
   "metadata": {},
   "source": [
    "Answer: The top 5 descriptors of the complaints are heat, street light being out, property tax exemption application for owners in English, no access, and loud music or a party."
   ]
  },
  {
   "cell_type": "code",
   "execution_count": 60,
   "id": "0c9be7dc",
   "metadata": {},
   "outputs": [
    {
     "data": {
      "text/plain": [
       "<AxesSubplot:>"
      ]
     },
     "execution_count": 60,
     "metadata": {},
     "output_type": "execute_result"
    },
    {
     "data": {
      "image/png": "[encoded data removed]",
      "text/plain": [
       "<Figure size 432x288 with 1 Axes>"
      ]
     },
     "metadata": {
      "needs_background": "light"
     },
     "output_type": "display_data"
    }
   ],
   "source": [
    "# what are the bottom five address types with complaints?\n",
    "complaints['Address_Type'].value_counts().tail(5).plot(kind=\"bar\")"
   ]
  },
  {
   "cell_type": "markdown",
   "id": "c14822a0",
   "metadata": {},
   "source": [
    "Answer: The bottom 5 address types with complaints are placename with the least, then latlaong, blockface, intersection, and address with the most."
   ]
  },
  {
   "cell_type": "markdown",
   "id": "d5077e20",
   "metadata": {},
   "source": [
    "### 10. Select illegal Parking complains at Queens Borough and save it to new_complaint. How many entries are there?\n",
    "You can use `query`/iloc"
   ]
  },
  {
   "cell_type": "code",
   "execution_count": 61,
   "id": "2af93b78",
   "metadata": {},
   "outputs": [
    {
     "data": {
      "text/plain": [
       "887"
      ]
     },
     "execution_count": 61,
     "metadata": {},
     "output_type": "execute_result"
    }
   ],
   "source": [
    "new_complaint = complaints.query('Complaint_Type ==\"Illegal Parking\" & Borough ==\"QUEENS\"')\n",
    "len(new_complaint)"
   ]
  },
  {
   "cell_type": "markdown",
   "id": "84adb664",
   "metadata": {},
   "source": [
    "Answer: There are 887 complaints, or entries, where the borough is Queens and the complain type is illegal parking."
   ]
  },
  {
   "cell_type": "markdown",
   "id": "65793089",
   "metadata": {},
   "source": [
    "### 11. Filter 3 columns `Complaint_Type, Created_Date,Descriptor` from the new_complaint and save it as a CSV file named **Complains at Queens**."
   ]
  },
  {
   "cell_type": "code",
   "execution_count": 62,
   "id": "f4587d7e",
   "metadata": {},
   "outputs": [],
   "source": [
    "new_complaint = new_complaint.iloc[:,[1, 5, 6]]"
   ]
  },
  {
   "cell_type": "code",
   "execution_count": 63,
   "id": "23639c4a",
   "metadata": {},
   "outputs": [
    {
     "data": {
      "text/html": [
       "<div>\n",
       "<style scoped>\n",
       "    .dataframe tbody tr th:only-of-type {\n",
       "        vertical-align: middle;\n",
       "    }\n",
       "\n",
       "    .dataframe tbody tr th {\n",
       "        vertical-align: top;\n",
       "    }\n",
       "\n",
       "    .dataframe thead th {\n",
       "        text-align: right;\n",
       "    }\n",
       "</style>\n",
       "<table border=\"1\" class=\"dataframe\">\n",
       "  <thead>\n",
       "    <tr style=\"text-align: right;\">\n",
       "      <th></th>\n",
       "      <th>Created_Date</th>\n",
       "      <th>Complaint_Type</th>\n",
       "      <th>Descriptor</th>\n",
       "    </tr>\n",
       "  </thead>\n",
       "  <tbody>\n",
       "    <tr>\n",
       "      <th>1</th>\n",
       "      <td>2013-10-31 02:01:04</td>\n",
       "      <td>Illegal Parking</td>\n",
       "      <td>Commercial Overnight Parking</td>\n",
       "    </tr>\n",
       "    <tr>\n",
       "      <th>116</th>\n",
       "      <td>2013-10-30 23:20:57</td>\n",
       "      <td>Illegal Parking</td>\n",
       "      <td>Blocked Hydrant</td>\n",
       "    </tr>\n",
       "    <tr>\n",
       "      <th>117</th>\n",
       "      <td>2013-10-30 23:20:26</td>\n",
       "      <td>Illegal Parking</td>\n",
       "      <td>Posted Parking Sign Violation</td>\n",
       "    </tr>\n",
       "    <tr>\n",
       "      <th>140</th>\n",
       "      <td>2013-10-30 23:01:49</td>\n",
       "      <td>Illegal Parking</td>\n",
       "      <td>Commercial Overnight Parking</td>\n",
       "    </tr>\n",
       "    <tr>\n",
       "      <th>186</th>\n",
       "      <td>2013-10-30 22:33:28</td>\n",
       "      <td>Illegal Parking</td>\n",
       "      <td>Commercial Overnight Parking</td>\n",
       "    </tr>\n",
       "    <tr>\n",
       "      <th>...</th>\n",
       "      <td>...</td>\n",
       "      <td>...</td>\n",
       "      <td>...</td>\n",
       "    </tr>\n",
       "    <tr>\n",
       "      <th>110969</th>\n",
       "      <td>2013-10-04 01:32:20</td>\n",
       "      <td>Illegal Parking</td>\n",
       "      <td>Commercial Overnight Parking</td>\n",
       "    </tr>\n",
       "    <tr>\n",
       "      <th>111000</th>\n",
       "      <td>2013-10-04 01:08:14</td>\n",
       "      <td>Illegal Parking</td>\n",
       "      <td>Overnight Commercial Storage</td>\n",
       "    </tr>\n",
       "    <tr>\n",
       "      <th>111030</th>\n",
       "      <td>2013-10-04 00:28:01</td>\n",
       "      <td>Illegal Parking</td>\n",
       "      <td>Commercial Overnight Parking</td>\n",
       "    </tr>\n",
       "    <tr>\n",
       "      <th>111047</th>\n",
       "      <td>2013-10-04 00:13:08</td>\n",
       "      <td>Illegal Parking</td>\n",
       "      <td>Posted Parking Sign Violation</td>\n",
       "    </tr>\n",
       "    <tr>\n",
       "      <th>111065</th>\n",
       "      <td>2013-10-04 00:01:05</td>\n",
       "      <td>Illegal Parking</td>\n",
       "      <td>Posted Parking Sign Violation</td>\n",
       "    </tr>\n",
       "  </tbody>\n",
       "</table>\n",
       "<p>887 rows × 3 columns</p>\n",
       "</div>"
      ],
      "text/plain": [
       "              Created_Date   Complaint_Type                     Descriptor\n",
       "1      2013-10-31 02:01:04  Illegal Parking   Commercial Overnight Parking\n",
       "116    2013-10-30 23:20:57  Illegal Parking                Blocked Hydrant\n",
       "117    2013-10-30 23:20:26  Illegal Parking  Posted Parking Sign Violation\n",
       "140    2013-10-30 23:01:49  Illegal Parking   Commercial Overnight Parking\n",
       "186    2013-10-30 22:33:28  Illegal Parking   Commercial Overnight Parking\n",
       "...                    ...              ...                            ...\n",
       "110969 2013-10-04 01:32:20  Illegal Parking   Commercial Overnight Parking\n",
       "111000 2013-10-04 01:08:14  Illegal Parking   Overnight Commercial Storage\n",
       "111030 2013-10-04 00:28:01  Illegal Parking   Commercial Overnight Parking\n",
       "111047 2013-10-04 00:13:08  Illegal Parking  Posted Parking Sign Violation\n",
       "111065 2013-10-04 00:01:05  Illegal Parking  Posted Parking Sign Violation\n",
       "\n",
       "[887 rows x 3 columns]"
      ]
     },
     "execution_count": 63,
     "metadata": {},
     "output_type": "execute_result"
    }
   ],
   "source": [
    "new_complaint"
   ]
  },
  {
   "cell_type": "code",
   "execution_count": 64,
   "id": "17af8a74",
   "metadata": {},
   "outputs": [],
   "source": [
    "new_complaint.to_csv(\"Complaints_at_Queens.csv\", \n",
    "          index=False)"
   ]
  },
  {
   "cell_type": "markdown",
   "id": "c1cb456a",
   "metadata": {},
   "source": [
    "Answer: This section filters the complaint type, created date, and the descriptors into a file named complaints at Queens."
   ]
  },
  {
   "cell_type": "markdown",
   "id": "b042f23a",
   "metadata": {},
   "source": [
    "### 12. Load it back to verify the data"
   ]
  },
  {
   "cell_type": "code",
   "execution_count": 65,
   "id": "8e1f7499",
   "metadata": {},
   "outputs": [],
   "source": [
    "loaded_complaints = pd.read_csv('Complaints_at_Queens.csv', index_col=[0])"
   ]
  },
  {
   "cell_type": "code",
   "execution_count": 66,
   "id": "18743ec3",
   "metadata": {},
   "outputs": [
    {
     "data": {
      "text/html": [
       "<div>\n",
       "<style scoped>\n",
       "    .dataframe tbody tr th:only-of-type {\n",
       "        vertical-align: middle;\n",
       "    }\n",
       "\n",
       "    .dataframe tbody tr th {\n",
       "        vertical-align: top;\n",
       "    }\n",
       "\n",
       "    .dataframe thead th {\n",
       "        text-align: right;\n",
       "    }\n",
       "</style>\n",
       "<table border=\"1\" class=\"dataframe\">\n",
       "  <thead>\n",
       "    <tr style=\"text-align: right;\">\n",
       "      <th></th>\n",
       "      <th>Complaint_Type</th>\n",
       "      <th>Descriptor</th>\n",
       "    </tr>\n",
       "    <tr>\n",
       "      <th>Created_Date</th>\n",
       "      <th></th>\n",
       "      <th></th>\n",
       "    </tr>\n",
       "  </thead>\n",
       "  <tbody>\n",
       "    <tr>\n",
       "      <th>2013-10-31 02:01:04</th>\n",
       "      <td>Illegal Parking</td>\n",
       "      <td>Commercial Overnight Parking</td>\n",
       "    </tr>\n",
       "    <tr>\n",
       "      <th>2013-10-30 23:20:57</th>\n",
       "      <td>Illegal Parking</td>\n",
       "      <td>Blocked Hydrant</td>\n",
       "    </tr>\n",
       "    <tr>\n",
       "      <th>2013-10-30 23:20:26</th>\n",
       "      <td>Illegal Parking</td>\n",
       "      <td>Posted Parking Sign Violation</td>\n",
       "    </tr>\n",
       "    <tr>\n",
       "      <th>2013-10-30 23:01:49</th>\n",
       "      <td>Illegal Parking</td>\n",
       "      <td>Commercial Overnight Parking</td>\n",
       "    </tr>\n",
       "    <tr>\n",
       "      <th>2013-10-30 22:33:28</th>\n",
       "      <td>Illegal Parking</td>\n",
       "      <td>Commercial Overnight Parking</td>\n",
       "    </tr>\n",
       "  </tbody>\n",
       "</table>\n",
       "</div>"
      ],
      "text/plain": [
       "                      Complaint_Type                     Descriptor\n",
       "Created_Date                                                       \n",
       "2013-10-31 02:01:04  Illegal Parking   Commercial Overnight Parking\n",
       "2013-10-30 23:20:57  Illegal Parking                Blocked Hydrant\n",
       "2013-10-30 23:20:26  Illegal Parking  Posted Parking Sign Violation\n",
       "2013-10-30 23:01:49  Illegal Parking   Commercial Overnight Parking\n",
       "2013-10-30 22:33:28  Illegal Parking   Commercial Overnight Parking"
      ]
     },
     "execution_count": 66,
     "metadata": {},
     "output_type": "execute_result"
    }
   ],
   "source": [
    "loaded_complaints.head()"
   ]
  },
  {
   "cell_type": "markdown",
   "id": "37c3f231",
   "metadata": {},
   "source": [
    "Answer: This shows that the file was loaded and verifies that the complaints at Queens were loaded correctly and saved to a file with that specific name."
   ]
  }
 ],
 "metadata": {
  "kernelspec": {
   "display_name": "Python 3 (ipykernel)",
   "language": "python",
   "name": "python3"
  },
  "language_info": {
   "codemirror_mode": {
    "name": "ipython",
    "version": 3
   },
   "file_extension": ".py",
   "mimetype": "text/x-python",
   "name": "python",
   "nbconvert_exporter": "python",
   "pygments_lexer": "ipython3",
   "version": "3.9.12"
  }
 },
 "nbformat": 4,
 "nbformat_minor": 5
}
